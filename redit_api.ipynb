{
 "cells": [
  {
   "cell_type": "markdown",
   "id": "3c2611b1-5b66-463e-9194-8ae58f4256e0",
   "metadata": {},
   "source": [
    "# **Exercise 2: Reddit API Data Collection & Sentiment Analysis**"
   ]
  },
  {
   "cell_type": "markdown",
   "id": "2324ee1f-fa93-4148-9af4-80cf81b0dec5",
   "metadata": {},
   "source": [
    "## **Part 1: Reddit API Setup & Data Collection**"
   ]
  },
  {
   "cell_type": "markdown",
   "id": "b4c3ae96-cec9-4cee-927c-171d6f3a048f",
   "metadata": {},
   "source": [
    "### Installing Libraries"
   ]
  },
  {
   "cell_type": "code",
   "execution_count": 1,
   "id": "64afcb6a-b3a0-43e2-a5cc-9aebf656153c",
   "metadata": {},
   "outputs": [
    {
     "name": "stdout",
     "output_type": "stream",
     "text": [
      "Requirement already satisfied: praw in /opt/anaconda3/lib/python3.13/site-packages (7.8.1)\n",
      "Requirement already satisfied: pandas in /opt/anaconda3/lib/python3.13/site-packages (2.2.0)\n",
      "Requirement already satisfied: prawcore<3,>=2.4 in /opt/anaconda3/lib/python3.13/site-packages (from praw) (2.4.0)\n",
      "Requirement already satisfied: update_checker>=0.18 in /opt/anaconda3/lib/python3.13/site-packages (from praw) (0.18.0)\n",
      "Requirement already satisfied: websocket-client>=0.54.0 in /opt/anaconda3/lib/python3.13/site-packages (from praw) (1.8.0)\n",
      "Requirement already satisfied: requests<3.0,>=2.6.0 in /opt/anaconda3/lib/python3.13/site-packages (from prawcore<3,>=2.4->praw) (2.32.3)\n",
      "Requirement already satisfied: charset-normalizer<4,>=2 in /opt/anaconda3/lib/python3.13/site-packages (from requests<3.0,>=2.6.0->prawcore<3,>=2.4->praw) (3.3.2)\n",
      "Requirement already satisfied: idna<4,>=2.5 in /opt/anaconda3/lib/python3.13/site-packages (from requests<3.0,>=2.6.0->prawcore<3,>=2.4->praw) (3.7)\n",
      "Requirement already satisfied: urllib3<3,>=1.21.1 in /opt/anaconda3/lib/python3.13/site-packages (from requests<3.0,>=2.6.0->prawcore<3,>=2.4->praw) (2.3.0)\n",
      "Requirement already satisfied: certifi>=2017.4.17 in /opt/anaconda3/lib/python3.13/site-packages (from requests<3.0,>=2.6.0->prawcore<3,>=2.4->praw) (2025.8.3)\n",
      "Requirement already satisfied: numpy<2,>=1.26.0 in /opt/anaconda3/lib/python3.13/site-packages (from pandas) (1.26.4)\n",
      "Requirement already satisfied: python-dateutil>=2.8.2 in /opt/anaconda3/lib/python3.13/site-packages (from pandas) (2.9.0.post0)\n",
      "Requirement already satisfied: pytz>=2020.1 in /opt/anaconda3/lib/python3.13/site-packages (from pandas) (2024.1)\n",
      "Requirement already satisfied: tzdata>=2022.7 in /opt/anaconda3/lib/python3.13/site-packages (from pandas) (2025.2)\n",
      "Requirement already satisfied: six>=1.5 in /opt/anaconda3/lib/python3.13/site-packages (from python-dateutil>=2.8.2->pandas) (1.17.0)\n",
      "Note: you may need to restart the kernel to use updated packages.\n"
     ]
    }
   ],
   "source": [
    "pip install praw pandas\n"
   ]
  },
  {
   "cell_type": "code",
   "execution_count": 2,
   "id": "5c5802fe-f71b-46e7-b2f5-7b8d9af363f8",
   "metadata": {},
   "outputs": [
    {
     "name": "stdout",
     "output_type": "stream",
     "text": [
      "Conexión exitosa: Basic_Insurance_9879\n"
     ]
    }
   ],
   "source": [
    "import praw\n",
    "\n",
    "reddit = praw.Reddit(\n",
    "    client_id=\"4fd3sISWF8K8DKGXS-vLcw\",\n",
    "    client_secret=\"Rjtz8CD3kbS1qgV5r3LM49Ie1mnB-Q\",\n",
    "    username=\"Basic_Insurance_9879\",\n",
    "    password=\"medroG-tespuz-vuhma5\",\n",
    "    user_agent=\"Python:PoliticalSentimentAnalyzer:v1.0 (by /u/Basic_Insurance_9879)\"\n",
    ")\n",
    "\n",
    "print(\"Conexión exitosa:\", reddit.user.me())"
   ]
  },
  {
   "cell_type": "markdown",
   "id": "7a6919e5-deef-4356-b446-18f8865ec4c1",
   "metadata": {},
   "source": [
    "## **Part 2: Collect Data and Storage**"
   ]
  },
  {
   "cell_type": "code",
   "execution_count": 3,
   "id": "9712fd3f-72cc-42da-a586-d8290591ea32",
   "metadata": {},
   "outputs": [
    {
     "name": "stdout",
     "output_type": "stream",
     "text": [
      "  subreddit                                              title  score  \\\n",
      "0  politics  Discussion Thread: US House and Senate Session...     48   \n",
      "1  politics  Discussion Thread: Reps. Khanna & Massie Hold ...    464   \n",
      "2  politics  Call Me Crazy, but I for One Still Want to Kno...  27145   \n",
      "3  politics  Jeffrey Epstein Victims Reveal They’re Compili...  30019   \n",
      "4  politics  Trump, Who Campaigned on Releasing Epstein Fil...   4412   \n",
      "\n",
      "   num_comments       id                                                url  \n",
      "0             9  1n7f1z2  https://www.reddit.com/r/politics/comments/1n7...  \n",
      "1           935  1n7f2ei  https://www.reddit.com/r/politics/comments/1n7...  \n",
      "2           599  1n7osgn  https://slate.com/news-and-politics/2025/09/tr...  \n",
      "3           571  1n7inhd  https://www.thedailybeast.com/jeffrey-epstein-...  \n",
      "4           102  1n7rjgc  https://www.huffpost.com/entry/trump-mocked-fo...  \n"
     ]
    }
   ],
   "source": [
    "import pandas as pd\n",
    "\n",
    "subreddits = [\"politics\", \"PoliticalDiscussion\", \"worldnews\"]\n",
    "table_data = []\n",
    "\n",
    "for sub in subreddits:\n",
    "    subreddit = reddit.subreddit(sub)\n",
    "    for post in subreddit.hot(limit=20):\n",
    "        table_data.append({\n",
    "            \"subreddit\": sub,\n",
    "            \"title\": post.title,\n",
    "            \"score\": post.score,\n",
    "            \"num_comments\": post.num_comments,\n",
    "            \"id\": post.id,\n",
    "            \"url\": post.url\n",
    "        })\n",
    "\n",
    "table_df = pd.DataFrame(table_data)\n",
    "print(table_df.head())\n",
    "\n",
    "table_df.to_csv(\"reddit_table.csv\", index=False)\n"
   ]
  },
  {
   "cell_type": "code",
   "execution_count": 6,
   "id": "9d92b2f4-efe6-4eb3-b547-c42514249364",
   "metadata": {},
   "outputs": [
    {
     "name": "stdout",
     "output_type": "stream",
     "text": [
      "  table_id                                               body  score\n",
      "0  1n7f1z2  To sort this thread by 'best comments first', ...      1\n",
      "1  1n7f1z2  Grassley's talking about Russian crimes agains...     13\n",
      "2  1n7f1z2  [Lawrence: The most perverse thing during Blan...      1\n",
      "3  1n7f1z2                          Release the Epstein files     21\n",
      "4  1n7f1z2                                   Trump rapes kids     19\n"
     ]
    }
   ],
   "source": [
    "comments_data = []\n",
    "\n",
    "for table_id in table_df[\"id\"].head(10):\n",
    "    submission = reddit.submission(id=table_id)\n",
    "    submission.comments.replace_more(limit=0)\n",
    "\n",
    "    for comment in submission.comments[:5]:\n",
    "        comments_data.append({\n",
    "            \"table_id\": table_id,\n",
    "            \"body\": comment.body,\n",
    "            \"score\": comment.score\n",
    "        })\n",
    "\n",
    "comments_df = pd.DataFrame(comments_data)\n",
    "print(comments_df.head())\n",
    "\n",
    "comments_df.to_csv(\"reddit_comments.csv\", index=False)\n"
   ]
  },
  {
   "cell_type": "code",
   "execution_count": null,
   "id": "92b5cf4c-70f0-4b79-b0eb-c96a18a98056",
   "metadata": {},
   "outputs": [],
   "source": []
  }
 ],
 "metadata": {
  "kernelspec": {
   "display_name": "Python [conda env:base] *",
   "language": "python",
   "name": "conda-base-py"
  },
  "language_info": {
   "codemirror_mode": {
    "name": "ipython",
    "version": 3
   },
   "file_extension": ".py",
   "mimetype": "text/x-python",
   "name": "python",
   "nbconvert_exporter": "python",
   "pygments_lexer": "ipython3",
   "version": "3.13.5"
  }
 },
 "nbformat": 4,
 "nbformat_minor": 5
}
