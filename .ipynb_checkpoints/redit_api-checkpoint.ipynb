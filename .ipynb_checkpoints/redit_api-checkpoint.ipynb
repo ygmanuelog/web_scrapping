{
 "cells": [
  {
   "cell_type": "code",
   "execution_count": 5,
   "id": "64afcb6a-b3a0-43e2-a5cc-9aebf656153c",
   "metadata": {},
   "outputs": [
    {
     "name": "stdout",
     "output_type": "stream",
     "text": [
      "Requirement already satisfied: praw in /opt/anaconda3/lib/python3.13/site-packages (7.8.1)\n",
      "Requirement already satisfied: pandas in /opt/anaconda3/lib/python3.13/site-packages (2.2.0)\n",
      "Requirement already satisfied: prawcore<3,>=2.4 in /opt/anaconda3/lib/python3.13/site-packages (from praw) (2.4.0)\n",
      "Requirement already satisfied: update_checker>=0.18 in /opt/anaconda3/lib/python3.13/site-packages (from praw) (0.18.0)\n",
      "Requirement already satisfied: websocket-client>=0.54.0 in /opt/anaconda3/lib/python3.13/site-packages (from praw) (1.8.0)\n",
      "Requirement already satisfied: requests<3.0,>=2.6.0 in /opt/anaconda3/lib/python3.13/site-packages (from prawcore<3,>=2.4->praw) (2.32.3)\n",
      "Requirement already satisfied: charset-normalizer<4,>=2 in /opt/anaconda3/lib/python3.13/site-packages (from requests<3.0,>=2.6.0->prawcore<3,>=2.4->praw) (3.3.2)\n",
      "Requirement already satisfied: idna<4,>=2.5 in /opt/anaconda3/lib/python3.13/site-packages (from requests<3.0,>=2.6.0->prawcore<3,>=2.4->praw) (3.7)\n",
      "Requirement already satisfied: urllib3<3,>=1.21.1 in /opt/anaconda3/lib/python3.13/site-packages (from requests<3.0,>=2.6.0->prawcore<3,>=2.4->praw) (2.3.0)\n",
      "Requirement already satisfied: certifi>=2017.4.17 in /opt/anaconda3/lib/python3.13/site-packages (from requests<3.0,>=2.6.0->prawcore<3,>=2.4->praw) (2025.8.3)\n",
      "Requirement already satisfied: numpy<2,>=1.26.0 in /opt/anaconda3/lib/python3.13/site-packages (from pandas) (1.26.4)\n",
      "Requirement already satisfied: python-dateutil>=2.8.2 in /opt/anaconda3/lib/python3.13/site-packages (from pandas) (2.9.0.post0)\n",
      "Requirement already satisfied: pytz>=2020.1 in /opt/anaconda3/lib/python3.13/site-packages (from pandas) (2024.1)\n",
      "Requirement already satisfied: tzdata>=2022.7 in /opt/anaconda3/lib/python3.13/site-packages (from pandas) (2025.2)\n",
      "Requirement already satisfied: six>=1.5 in /opt/anaconda3/lib/python3.13/site-packages (from python-dateutil>=2.8.2->pandas) (1.17.0)\n",
      "Note: you may need to restart the kernel to use updated packages.\n"
     ]
    }
   ],
   "source": [
    "pip install praw pandas\n"
   ]
  },
  {
   "cell_type": "code",
   "execution_count": 8,
   "id": "5c5802fe-f71b-46e7-b2f5-7b8d9af363f8",
   "metadata": {},
   "outputs": [
    {
     "name": "stdout",
     "output_type": "stream",
     "text": [
      "Conexión exitosa: Basic_Insurance_9879\n"
     ]
    }
   ],
   "source": [
    "import praw\n",
    "\n",
    "reddit = praw.Reddit(\n",
    "    client_id=\"4fd3sISWF8K8DKGXS-vLcw\",\n",
    "    client_secret=\"Rjtz8CD3kbS1qgV5r3LM49Ie1mnB-Q\",\n",
    "    username=\"Basic_Insurance_9879\",\n",
    "    password=\"medroG-tespuz-vuhma5\",\n",
    "    user_agent=\"Python:PoliticalSentimentAnalyzer:v1.0 (by /u/Basic_Insurance_9879)\"\n",
    ")\n",
    "\n",
    "print(\"Conexión exitosa:\", reddit.user.me())"
   ]
  },
  {
   "cell_type": "code",
   "execution_count": 9,
   "id": "9712fd3f-72cc-42da-a586-d8290591ea32",
   "metadata": {},
   "outputs": [
    {
     "name": "stdout",
     "output_type": "stream",
     "text": [
      "  subreddit       id                                              title  \\\n",
      "0  politics  1n6mksa  Discussion Thread: US President Trump Makes Un...   \n",
      "1  politics  1n6yhwa  As many as 100 Epstein victims will attend Was...   \n",
      "2  politics  1n6xprx  Mace leaves meeting with Epstein victim visibl...   \n",
      "3  politics  1n6s5wy  GOP Rep. Thomas Massie files discharge petitio...   \n",
      "4  politics  1n737di  MTG, Boebert, Mace to back Epstein files vote,...   \n",
      "\n",
      "   score  num_comments                                                url  \n",
      "0    567          1536  https://www.reddit.com/r/politics/comments/1n6...  \n",
      "1  19509           336  https://www.miamiherald.com/news/politics-gove...  \n",
      "2  10782           611  https://thehill.com/homenews/house/5482632-mac...  \n",
      "3  27537           610  https://www.cbsnews.com/news/thomas-massie-eps...  \n",
      "4   3380           171  https://www.msnbc.com/msnbc/amp-video/mmvo2464...  \n"
     ]
    }
   ],
   "source": [
    "import pandas as pd\n",
    "\n",
    "subreddits = [\"politics\", \"PoliticalDiscussion\", \"worldnews\"]\n",
    "posts_data = []\n",
    "\n",
    "for sub in subreddits:\n",
    "    subreddit = reddit.subreddit(sub)\n",
    "    for post in subreddit.hot(limit=20):  # también puedes usar .top(limit=20)\n",
    "        posts_data.append({\n",
    "            \"subreddit\": sub,\n",
    "            \"id\": post.id,\n",
    "            \"title\": post.title,\n",
    "            \"score\": post.score,\n",
    "            \"num_comments\": post.num_comments,\n",
    "            \"url\": post.url\n",
    "        })\n",
    "\n",
    "posts_df = pd.DataFrame(posts_data)\n",
    "print(posts_df.head())\n",
    "\n",
    "posts_df.to_csv(\"reddit_posts.csv\", index=False)\n"
   ]
  },
  {
   "cell_type": "code",
   "execution_count": 12,
   "id": "9d92b2f4-efe6-4eb3-b547-c42514249364",
   "metadata": {},
   "outputs": [
    {
     "name": "stdout",
     "output_type": "stream",
     "text": [
      "   post_id                                               body  score\n",
      "0  1n6mksa  To sort this thread by 'best comments first', ...      1\n",
      "1  1n6mksa  Newsweek is reporting that it's about moving S...    306\n",
      "2  1n6mksa  For anyone still out of the loop, he's moving ...    587\n",
      "3  1n6mksa  it's 2:27pm...do you know where your president...    154\n",
      "4  1n6mksa  Trump is gonna sit in front of a teleprompter ...    132\n"
     ]
    }
   ],
   "source": [
    "comments_data = []\n",
    "\n",
    "for post_id in posts_df[\"id\"].head(10):\n",
    "    submission = reddit.submission(id=post_id)\n",
    "    submission.comments.replace_more(limit=0)\n",
    "\n",
    "    for comment in submission.comments[:5]:\n",
    "        comments_data.append({\n",
    "            \"post_id\": post_id,\n",
    "            \"body\": comment.body,\n",
    "            \"score\": comment.score\n",
    "        })\n",
    "\n",
    "comments_df = pd.DataFrame(comments_data)\n",
    "print(comments_df.head())\n",
    "\n",
    "comments_df.to_csv(\"reddit_comments.csv\", index=False)\n"
   ]
  },
  {
   "cell_type": "code",
   "execution_count": null,
   "id": "92b5cf4c-70f0-4b79-b0eb-c96a18a98056",
   "metadata": {},
   "outputs": [],
   "source": []
  }
 ],
 "metadata": {
  "kernelspec": {
   "display_name": "Python [conda env:base] *",
   "language": "python",
   "name": "conda-base-py"
  },
  "language_info": {
   "codemirror_mode": {
    "name": "ipython",
    "version": 3
   },
   "file_extension": ".py",
   "mimetype": "text/x-python",
   "name": "python",
   "nbconvert_exporter": "python",
   "pygments_lexer": "ipython3",
   "version": "3.13.5"
  }
 },
 "nbformat": 4,
 "nbformat_minor": 5
}
