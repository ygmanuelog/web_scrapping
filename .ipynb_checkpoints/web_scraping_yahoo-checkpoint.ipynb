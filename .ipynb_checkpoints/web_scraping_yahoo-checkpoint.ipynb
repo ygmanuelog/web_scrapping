{
 "cells": [
  {
   "cell_type": "code",
   "execution_count": 86,
   "id": "2092ee00",
   "metadata": {},
   "outputs": [],
   "source": [
    "from selenium import webdriver\n",
    "from selenium.webdriver.chrome.service import Service\n",
    "from selenium.webdriver.common.by import By\n",
    "from selenium.webdriver.support.ui import WebDriverWait\n",
    "from selenium.webdriver.support import expected_conditions as EC\n",
    "from selenium.webdriver.chrome.options import Options\n",
    "import pandas as pd\n",
    "import matplotlib.pyplot as plt\n",
    "import seaborn as sns\n",
    "import time\n",
    "import yfinance as yf"
   ]
  },
  {
   "cell_type": "code",
   "execution_count": 87,
   "id": "95d7d427",
   "metadata": {},
   "outputs": [
    {
     "name": "stdout",
     "output_type": "stream",
     "text": [
      "WebDriver iniciado con éxito: Top Stock Gains: US stocks posting the highest gains today - Yahoo Finance\n"
     ]
    }
   ],
   "source": [
    "chrome_options = Options()\n",
    "chrome_options.add_argument(\"--start-maximized\")\n",
    "driver = webdriver.Chrome(options=chrome_options)\n",
    "url = \"https://finance.yahoo.com/markets/stocks/gainers\"\n",
    "driver.get(url)\n",
    "print(\"WebDriver iniciado con éxito:\", driver.title)"
   ]
  },
  {
   "cell_type": "code",
   "execution_count": 88,
   "id": "9485b88f",
   "metadata": {},
   "outputs": [
    {
     "name": "stdout",
     "output_type": "stream",
     "text": [
      "Tabla encontrada. Comenzando el scraping.\n"
     ]
    }
   ],
   "source": [
    "wait = WebDriverWait(driver, 10).until(\n",
    "    EC.presence_of_element_located((By.TAG_NAME, \"table\"))\n",
    "    )\n",
    "print(\"Tabla encontrada. Comenzando el scraping.\")"
   ]
  },
  {
   "cell_type": "code",
   "execution_count": 89,
   "id": "98303fc7",
   "metadata": {},
   "outputs": [
    {
     "name": "stdout",
     "output_type": "stream",
     "text": [
      "No hay más 'Show More'.\n"
     ]
    }
   ],
   "source": [
    "while True:\n",
    "    try:\n",
    "        show_more = wait.until(\n",
    "            EC.element_to_be_clickable((By.XPATH, '/html/body/div[2]/main/section/section/section/section/section[1]/div/div[3]/div[1]/div/div/div/button/div/svg'))\n",
    "        )\n",
    "        driver.execute_script(\"arguments[0].click();\", show_more)\n",
    "        time.sleep(2)  # esperar que carguen más filas\n",
    "    except:\n",
    "        print(\"No hay más 'Show More'.\")\n",
    "        break"
   ]
  },
  {
   "cell_type": "code",
   "execution_count": 90,
   "id": "ea8cc1b8",
   "metadata": {},
   "outputs": [
    {
     "ename": "AttributeError",
     "evalue": "module 'matplotlib.table' has no attribute 'find_elements'",
     "output_type": "error",
     "traceback": [
      "\u001b[0;31m---------------------------------------------------------------------------\u001b[0m",
      "\u001b[0;31mAttributeError\u001b[0m                            Traceback (most recent call last)",
      "Cell \u001b[0;32mIn[90], line 1\u001b[0m\n\u001b[0;32m----> 1\u001b[0m rows \u001b[38;5;241m=\u001b[39m table\u001b[38;5;241m.\u001b[39mfind_elements(By\u001b[38;5;241m.\u001b[39mTAG_NAME, \u001b[38;5;124m\"\u001b[39m\u001b[38;5;124mtr\u001b[39m\u001b[38;5;124m\"\u001b[39m)\n\u001b[1;32m      3\u001b[0m symbols \u001b[38;5;241m=\u001b[39m []\n\u001b[1;32m      4\u001b[0m names \u001b[38;5;241m=\u001b[39m []\n",
      "\u001b[0;31mAttributeError\u001b[0m: module 'matplotlib.table' has no attribute 'find_elements'"
     ]
    }
   ],
   "source": [
    "rows = table.find_elements(By.TAG_NAME, \"tr\")\n",
    "\n",
    "symbols = []\n",
    "names = []\n",
    "\n",
    "for row in rows[1:51]:\n",
    "    cols = row.find_elements(By.TAG_NAME, \"td\")\n",
    "    if len(cols) >= 2:\n",
    "        symbols.append(cols[0].text.strip())\n",
    "        names.append(cols[1].text.strip())\n",
    "\n",
    "driver.quit()"
   ]
  },
  {
   "cell_type": "code",
   "execution_count": 91,
   "id": "7b194e22",
   "metadata": {},
   "outputs": [
    {
     "name": "stdout",
     "output_type": "stream",
     "text": [
      "  Symbol                             Name\n",
      "0   CYTK       Cytokinetics, Incorporated\n",
      "1   IONS      Ionis Pharmaceuticals, Inc.\n",
      "2   UTHR  United Therapeutics Corporation\n",
      "3   ARWR  Arrowhead Pharmaceuticals, Inc.\n",
      "4   OPEN       Opendoor Technologies Inc.\n"
     ]
    }
   ],
   "source": [
    "stocks_df = pd.DataFrame({\"Symbol\": symbols, \"Name\": names})\n",
    "print(stocks_df.head())\n",
    "stocks_df.to_csv(\"top_50.csv\", index=False, encoding='utf-8-sig')"
   ]
  },
  {
   "cell_type": "code",
   "execution_count": 92,
   "id": "eeaf716e",
   "metadata": {},
   "outputs": [
    {
     "name": "stderr",
     "output_type": "stream",
     "text": [
      "[*********************100%***********************]  25 of 25 completed\n"
     ]
    }
   ],
   "source": [
    "#Part 2\n",
    "data = yf.download(\n",
    "    tickers=symbols,\n",
    "    period=\"1y\",\n",
    "    interval=\"1mo\",\n",
    "    group_by=\"ticker\",\n",
    "    auto_adjust=True,\n",
    "    threads=True\n",
    ")"
   ]
  },
  {
   "cell_type": "code",
   "execution_count": 93,
   "id": "1e762015",
   "metadata": {},
   "outputs": [
    {
     "name": "stdout",
     "output_type": "stream",
     "text": [
      "\n",
      "Adjusted Close Prices:\n",
      "                 CYTK       IONS        UTHR       ARWR  OPEN   IREN  SBSW  \\\n",
      "Date                                                                         \n",
      "2024-10-01  51.000000  38.389999  373.970001  19.230000  1.75   9.12  4.67   \n",
      "2024-11-01  51.860001  35.730000  370.489990  26.030001  2.34  13.51  4.09   \n",
      "2024-12-01  47.040001  34.959999  352.839996  18.799999  1.60   9.82  3.30   \n",
      "2025-01-01  49.459999  31.900000  351.170013  19.879999  1.38  10.22  3.81   \n",
      "2025-02-01  46.000000  33.189999  320.049988  18.910000  1.34   8.24  3.19   \n",
      "\n",
      "            MENS  CIFR       JOYY  ...       RARE       INSM         AL  \\\n",
      "Date                               ...                                    \n",
      "2024-10-01   NaN  4.93  32.636089  ...  50.990002  67.279999  43.779030   \n",
      "2024-11-01   NaN  6.70  37.236771  ...  47.630001  75.160004  50.244705   \n",
      "2024-12-01   NaN  4.64  40.112198  ...  42.070000  69.040001  47.589333   \n",
      "2025-01-01   NaN  5.73  41.549911  ...  43.029999  76.580002  45.806519   \n",
      "2025-02-01   NaN  4.08  44.847069  ...  42.919998  81.550003  47.511864   \n",
      "\n",
      "                 PTCT       DOOO  ARX        BIIB       SATS  ETOR        AG  \n",
      "Date                                                                          \n",
      "2024-10-01  39.919998  48.756012  NaN  174.000000  25.059999   NaN  7.359502  \n",
      "2024-11-01  43.880001  48.221645  NaN  160.630005  25.290001   NaN  6.093029  \n",
      "2024-12-01  45.139999  50.339321  NaN  152.919998  22.900000   NaN  5.478998  \n",
      "2025-01-01  45.880001  47.448833  NaN  143.929993  27.660000   NaN  5.688577  \n",
      "2025-02-01  55.259998  39.350475  NaN  140.500000  31.230000   NaN  5.359239  \n",
      "\n",
      "[5 rows x 25 columns]\n"
     ]
    }
   ],
   "source": [
    "adj_close = pd.DataFrame({sym: data[sym][\"Close\"] for sym in symbols})\n",
    "print(\"\\nAdjusted Close Prices:\")\n",
    "print(adj_close.head())"
   ]
  },
  {
   "cell_type": "code",
   "execution_count": 94,
   "id": "7bfa166a",
   "metadata": {},
   "outputs": [
    {
     "name": "stdout",
     "output_type": "stream",
     "text": [
      "\n",
      "Top 10 Selected Stocks: ['CYTK', 'SMR', 'ETOR', 'SATS', 'BIIB', 'ARX', 'DOOO', 'PTCT', 'AL', 'INSM']\n"
     ]
    },
    {
     "name": "stderr",
     "output_type": "stream",
     "text": [
      "/var/folders/s9/hqcnssbx6jd7wmtqx407fj2w0000gn/T/ipykernel_11771/1806712263.py:3: FutureWarning: The default fill_method='pad' in DataFrame.pct_change is deprecated and will be removed in a future version. Either fill in any non-leading NA values prior to calling pct_change or specify 'fill_method=None' to not fill NA values.\n",
      "  returns_first_half = first_half.pct_change().dropna()\n"
     ]
    }
   ],
   "source": [
    "#Part 3\n",
    "first_half = adj_close.iloc[:6]\n",
    "returns_first_half = first_half.pct_change().dropna()\n",
    "cumulative_return = (1 + returns_first_half).prod() - 1\n",
    "\n",
    "top10 = cumulative_return.sort_values(ascending=False).head(10).index.tolist()\n",
    "print(\"\\nTop 10 Selected Stocks:\", top10)"
   ]
  },
  {
   "cell_type": "code",
   "execution_count": 96,
   "id": "a7002248",
   "metadata": {},
   "outputs": [],
   "source": [
    "second_half = adj_close.iloc[6:]\n",
    "returns_second_half = second_half[top10].pct_change().dropna()\n",
    "portfolio_returns = returns_second_half.mean(axis=1)"
   ]
  },
  {
   "cell_type": "code",
   "execution_count": 97,
   "id": "4b9814b4",
   "metadata": {},
   "outputs": [
    {
     "name": "stdout",
     "output_type": "stream",
     "text": [
      "\n",
      "Portfolio Monthly Returns (last 6 months):\n",
      "Date\n",
      "2025-09-01    0.095919\n",
      "Freq: MS, dtype: float64\n"
     ]
    },
    {
     "data": {
      "image/png": "[encoded data removed]",
      "text/plain": [
       "<Figure size 1000x600 with 1 Axes>"
      ]
     },
     "metadata": {},
     "output_type": "display_data"
    }
   ],
   "source": [
    "print(\"\\nPortfolio Monthly Returns (last 6 months):\")\n",
    "print(portfolio_returns)\n",
    "\n",
    "plt.figure(figsize=(10,6))\n",
    "sns.lineplot(data=returns_second_half.cumsum(), legend=False, alpha=0.5)\n",
    "sns.lineplot(x=portfolio_returns.index, y=portfolio_returns.cumsum(), label=\"Portfolio\", color=\"black\", linewidth=2)\n",
    "plt.title(\"Performance: Selected Stocks vs Portfolio\")\n",
    "plt.ylabel(\"Cumulative Return\")\n",
    "plt.show()"
   ]
  }
 ],
 "metadata": {
  "kernelspec": {
   "display_name": "base",
   "language": "python",
   "name": "python3"
  },
  "language_info": {
   "codemirror_mode": {
    "name": "ipython",
    "version": 3
   },
   "file_extension": ".py",
   "mimetype": "text/x-python",
   "name": "python",
   "nbconvert_exporter": "python",
   "pygments_lexer": "ipython3",
   "version": "3.13.5"
  }
 },
 "nbformat": 4,
 "nbformat_minor": 5
}
